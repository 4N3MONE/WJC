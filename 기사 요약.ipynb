{
 "cells": [
  {
   "cell_type": "code",
   "execution_count": 1,
   "metadata": {},
   "outputs": [],
   "source": [
    "import pandas as pd\n",
    "import re\n",
    "from konlpy.tag import Okt\n",
    "from typing import List\n",
    "from textrankr import TextRank"
   ]
  },
  {
   "cell_type": "code",
   "execution_count": 2,
   "metadata": {},
   "outputs": [],
   "source": [
    "data=pd.read_csv('본문수집_윤석열_from2021-06-01to2021-07-01.csv')"
   ]
  },
  {
   "cell_type": "code",
   "execution_count": 3,
   "metadata": {},
   "outputs": [],
   "source": [
    "df=pd.DataFrame(data,columns=['content','summary'])"
   ]
  },
  {
   "cell_type": "code",
   "execution_count": 4,
   "metadata": {},
   "outputs": [
    {
     "data": {
      "text/html": [
       "<div>\n",
       "<style scoped>\n",
       "    .dataframe tbody tr th:only-of-type {\n",
       "        vertical-align: middle;\n",
       "    }\n",
       "\n",
       "    .dataframe tbody tr th {\n",
       "        vertical-align: top;\n",
       "    }\n",
       "\n",
       "    .dataframe thead th {\n",
       "        text-align: right;\n",
       "    }\n",
       "</style>\n",
       "<table border=\"1\" class=\"dataframe\">\n",
       "  <thead>\n",
       "    <tr style=\"text-align: right;\">\n",
       "      <th></th>\n",
       "      <th>content</th>\n",
       "      <th>summary</th>\n",
       "    </tr>\n",
       "  </thead>\n",
       "  <tbody>\n",
       "    <tr>\n",
       "      <th>0</th>\n",
       "      <td>윤석열 전 검찰총장의 명예를 훼손했다며 지난 3월 법치주의바로세우기행동연대가 조국 ...</td>\n",
       "      <td>NaN</td>\n",
       "    </tr>\n",
       "    <tr>\n",
       "      <th>1</th>\n",
       "      <td>【앵커】 \\n\\n김진욱 공수처장은 정치적 논란 사건을 피하기보다는 어떤 방식으로 수...</td>\n",
       "      <td>NaN</td>\n",
       "    </tr>\n",
       "    <tr>\n",
       "      <th>2</th>\n",
       "      <td>야권의 유력 대선주자인 윤석열 전 검찰총장 측 이동훈 대변인이 대변인직에서 물러났습...</td>\n",
       "      <td>NaN</td>\n",
       "    </tr>\n",
       "    <tr>\n",
       "      <th>3</th>\n",
       "      <td>윤석열 전 검찰총장이 최근 이른바 X파일 의혹에 대해 반박했습니다. \\n\\n윤 전 ...</td>\n",
       "      <td>NaN</td>\n",
       "    </tr>\n",
       "    <tr>\n",
       "      <th>4</th>\n",
       "      <td>윤석열 전 검찰총장 장모 최 모 씨의 사기 의혹 등을 재수사한 경찰이 '혐의없음' ...</td>\n",
       "      <td>NaN</td>\n",
       "    </tr>\n",
       "    <tr>\n",
       "      <th>...</th>\n",
       "      <td>...</td>\n",
       "      <td>...</td>\n",
       "    </tr>\n",
       "    <tr>\n",
       "      <th>8916</th>\n",
       "      <td>송영길 더불어민주당 대표가 16일 오전 국회에서 취임 후 첫 교섭단체 대표연설에 나...</td>\n",
       "      <td>NaN</td>\n",
       "    </tr>\n",
       "    <tr>\n",
       "      <th>8917</th>\n",
       "      <td>김기현 국민의힘 원내대표가 17일 국회 교섭단체 대표연설을 통해 문재인 정부의 실정...</td>\n",
       "      <td>NaN</td>\n",
       "    </tr>\n",
       "    <tr>\n",
       "      <th>8918</th>\n",
       "      <td>김기현 국민의힘 원내대표가 17일 국회 교섭단체 대표연설을 통해 문재인 정부의 실정...</td>\n",
       "      <td>NaN</td>\n",
       "    </tr>\n",
       "    <tr>\n",
       "      <th>8919</th>\n",
       "      <td>윤석열 전 검찰총장이 29일 \"상식을 무기로 무너진 자유민주주의와 법치, 시대와 세...</td>\n",
       "      <td>NaN</td>\n",
       "    </tr>\n",
       "    <tr>\n",
       "      <th>8920</th>\n",
       "      <td>윤석열 전 검찰총장이 대선 출마를 공식 선언한 29일 윤석열 테마주는 일제히 급락했...</td>\n",
       "      <td>NaN</td>\n",
       "    </tr>\n",
       "  </tbody>\n",
       "</table>\n",
       "<p>8921 rows × 2 columns</p>\n",
       "</div>"
      ],
      "text/plain": [
       "                                                content  summary\n",
       "0     윤석열 전 검찰총장의 명예를 훼손했다며 지난 3월 법치주의바로세우기행동연대가 조국 ...      NaN\n",
       "1     【앵커】 \\n\\n김진욱 공수처장은 정치적 논란 사건을 피하기보다는 어떤 방식으로 수...      NaN\n",
       "2     야권의 유력 대선주자인 윤석열 전 검찰총장 측 이동훈 대변인이 대변인직에서 물러났습...      NaN\n",
       "3     윤석열 전 검찰총장이 최근 이른바 X파일 의혹에 대해 반박했습니다. \\n\\n윤 전 ...      NaN\n",
       "4     윤석열 전 검찰총장 장모 최 모 씨의 사기 의혹 등을 재수사한 경찰이 '혐의없음' ...      NaN\n",
       "...                                                 ...      ...\n",
       "8916  송영길 더불어민주당 대표가 16일 오전 국회에서 취임 후 첫 교섭단체 대표연설에 나...      NaN\n",
       "8917  김기현 국민의힘 원내대표가 17일 국회 교섭단체 대표연설을 통해 문재인 정부의 실정...      NaN\n",
       "8918  김기현 국민의힘 원내대표가 17일 국회 교섭단체 대표연설을 통해 문재인 정부의 실정...      NaN\n",
       "8919  윤석열 전 검찰총장이 29일 \"상식을 무기로 무너진 자유민주주의와 법치, 시대와 세...      NaN\n",
       "8920  윤석열 전 검찰총장이 대선 출마를 공식 선언한 29일 윤석열 테마주는 일제히 급락했...      NaN\n",
       "\n",
       "[8921 rows x 2 columns]"
      ]
     },
     "execution_count": 4,
     "metadata": {},
     "output_type": "execute_result"
    }
   ],
   "source": [
    "df"
   ]
  },
  {
   "cell_type": "code",
   "execution_count": 5,
   "metadata": {},
   "outputs": [],
   "source": [
    "content=df['content']"
   ]
  },
  {
   "cell_type": "markdown",
   "metadata": {},
   "source": [
    "# 기사 요약(파일)"
   ]
  },
  {
   "cell_type": "code",
   "execution_count": 18,
   "metadata": {},
   "outputs": [],
   "source": [
    "class MyTokenizer:\n",
    "    def __call__(self, text: str) -> List[str]:\n",
    "        tokens: List[str] = text.split()\n",
    "        return tokens"
   ]
  },
  {
   "cell_type": "code",
   "execution_count": 19,
   "metadata": {},
   "outputs": [
    {
     "data": {
      "text/plain": [
       "'class OktTokenizer:\\n    okt: Okt = Okt()\\n\\n    def __call__(self, text: str) -> List[str]:\\n        tokens: List[str] = self.okt.phrases(text)\\n        return tokens'"
      ]
     },
     "execution_count": 19,
     "metadata": {},
     "output_type": "execute_result"
    }
   ],
   "source": [
    "'''class OktTokenizer:\n",
    "    okt: Okt = Okt()\n",
    "\n",
    "    def __call__(self, text: str) -> List[str]:\n",
    "        tokens: List[str] = self.okt.phrases(text)\n",
    "        return tokens'''"
   ]
  },
  {
   "cell_type": "code",
   "execution_count": 20,
   "metadata": {},
   "outputs": [
    {
     "name": "stdout",
     "output_type": "stream",
     "text": [
      "끝!!!\n"
     ]
    },
    {
     "data": {
      "text/plain": [
       "\"'summaries: List[str] = textrank.summarize(content2, k, verbose=False)\\nfor summary in summaries:\\n    print(summary)\""
      ]
     },
     "execution_count": 20,
     "metadata": {},
     "output_type": "execute_result"
    }
   ],
   "source": [
    "#from typing import List\n",
    "#from textrankr import TextRank\n",
    "\n",
    "mytokenizer: MyTokenizer = MyTokenizer()\n",
    "textrank: TextRank = TextRank(mytokenizer)\n",
    "\n",
    "k: int = 3  # num sentences in the resulting summary\n",
    "total=''\n",
    "for i in range(len(content)):\n",
    "    article=content[i]\n",
    "    content2 =re.sub('[^0-9a-zA-Zㄱ-힗. ]','',article)\n",
    "    total=total+content2\n",
    "    summarized: str = textrank.summarize(content2, k)\n",
    "    df['summary'][i]=summarized\n",
    "    #print(summarized)  # gives you some text\n",
    "print('끝!!!')\n",
    "\n",
    "# if verbose = False, it returns a list\n",
    "''''summaries: List[str] = textrank.summarize(content2, k, verbose=False)\n",
    "for summary in summaries:\n",
    "    print(summary)'''"
   ]
  },
  {
   "cell_type": "code",
   "execution_count": 21,
   "metadata": {},
   "outputs": [
    {
     "data": {
      "text/html": [
       "<div>\n",
       "<style scoped>\n",
       "    .dataframe tbody tr th:only-of-type {\n",
       "        vertical-align: middle;\n",
       "    }\n",
       "\n",
       "    .dataframe tbody tr th {\n",
       "        vertical-align: top;\n",
       "    }\n",
       "\n",
       "    .dataframe thead th {\n",
       "        text-align: right;\n",
       "    }\n",
       "</style>\n",
       "<table border=\"1\" class=\"dataframe\">\n",
       "  <thead>\n",
       "    <tr style=\"text-align: right;\">\n",
       "      <th></th>\n",
       "      <th>content</th>\n",
       "      <th>summary</th>\n",
       "    </tr>\n",
       "  </thead>\n",
       "  <tbody>\n",
       "    <tr>\n",
       "      <th>0</th>\n",
       "      <td>윤석열 전 검찰총장의 명예를 훼손했다며 지난 3월 법치주의바로세우기행동연대가 조국 ...</td>\n",
       "      <td>윤석열 전 검찰총장의 명예를 훼손했다며 지난 3월 법치주의바로세우기행동연대가 조국 ...</td>\n",
       "    </tr>\n",
       "    <tr>\n",
       "      <th>1</th>\n",
       "      <td>【앵커】 \\n\\n김진욱 공수처장은 정치적 논란 사건을 피하기보다는 어떤 방식으로 수...</td>\n",
       "      <td>앵커 김진욱 공수처장은 정치적 논란 사건을 피하기보다는 어떤 방식으로 수사하고 결론...</td>\n",
       "    </tr>\n",
       "    <tr>\n",
       "      <th>2</th>\n",
       "      <td>야권의 유력 대선주자인 윤석열 전 검찰총장 측 이동훈 대변인이 대변인직에서 물러났습...</td>\n",
       "      <td>이 대변인은 기자들에게 보낸 메시지에서 일신상의 이유로 직을 내려놓는다고 밝혔습니다...</td>\n",
       "    </tr>\n",
       "    <tr>\n",
       "      <th>3</th>\n",
       "      <td>윤석열 전 검찰총장이 최근 이른바 X파일 의혹에 대해 반박했습니다. \\n\\n윤 전 ...</td>\n",
       "      <td>윤석열 전 검찰총장이 최근 이른바 X파일 의혹에 대해 반박했습니다\\n윤 전 총장은 ...</td>\n",
       "    </tr>\n",
       "    <tr>\n",
       "      <th>4</th>\n",
       "      <td>윤석열 전 검찰총장 장모 최 모 씨의 사기 의혹 등을 재수사한 경찰이 '혐의없음' ...</td>\n",
       "      <td>윤석열 전 검찰총장 장모 최 모 씨의 사기 의혹 등을 재수사한 경찰이 혐의없음 결론...</td>\n",
       "    </tr>\n",
       "    <tr>\n",
       "      <th>...</th>\n",
       "      <td>...</td>\n",
       "      <td>...</td>\n",
       "    </tr>\n",
       "    <tr>\n",
       "      <th>8916</th>\n",
       "      <td>송영길 더불어민주당 대표가 16일 오전 국회에서 취임 후 첫 교섭단체 대표연설에 나...</td>\n",
       "      <td>존경하는 국민 여러분 선배동료 의원 여러분  집값 폭등으로 서민들의 희망이 꺾이고 ...</td>\n",
       "    </tr>\n",
       "    <tr>\n",
       "      <th>8917</th>\n",
       "      <td>김기현 국민의힘 원내대표가 17일 국회 교섭단체 대표연설을 통해 문재인 정부의 실정...</td>\n",
       "      <td>지금 문재인정부와 민주당이 그렇게 하고 있습니다\\n그런데 문재인정부와 민주당은 거꾸...</td>\n",
       "    </tr>\n",
       "    <tr>\n",
       "      <th>8918</th>\n",
       "      <td>김기현 국민의힘 원내대표가 17일 국회 교섭단체 대표연설을 통해 문재인 정부의 실정...</td>\n",
       "      <td>지금 문재인정부와 민주당이 그렇게 하고 있습니다\\n그런데 문재인정부와 민주당은 거꾸...</td>\n",
       "    </tr>\n",
       "    <tr>\n",
       "      <th>8919</th>\n",
       "      <td>윤석열 전 검찰총장이 29일 \"상식을 무기로 무너진 자유민주주의와 법치, 시대와 세...</td>\n",
       "      <td>우리 모두 똑똑히 기억하고 있습니다\\n그래야만 이길 수 있습니다\\n위대한 국민 여러...</td>\n",
       "    </tr>\n",
       "    <tr>\n",
       "      <th>8920</th>\n",
       "      <td>윤석열 전 검찰총장이 대선 출마를 공식 선언한 29일 윤석열 테마주는 일제히 급락했...</td>\n",
       "      <td>이들 종목은 오너가 윤 전 총장과 출신 지역이나 학교가 같아 테마주로 불려왔다\\n이...</td>\n",
       "    </tr>\n",
       "  </tbody>\n",
       "</table>\n",
       "<p>8921 rows × 2 columns</p>\n",
       "</div>"
      ],
      "text/plain": [
       "                                                content  \\\n",
       "0     윤석열 전 검찰총장의 명예를 훼손했다며 지난 3월 법치주의바로세우기행동연대가 조국 ...   \n",
       "1     【앵커】 \\n\\n김진욱 공수처장은 정치적 논란 사건을 피하기보다는 어떤 방식으로 수...   \n",
       "2     야권의 유력 대선주자인 윤석열 전 검찰총장 측 이동훈 대변인이 대변인직에서 물러났습...   \n",
       "3     윤석열 전 검찰총장이 최근 이른바 X파일 의혹에 대해 반박했습니다. \\n\\n윤 전 ...   \n",
       "4     윤석열 전 검찰총장 장모 최 모 씨의 사기 의혹 등을 재수사한 경찰이 '혐의없음' ...   \n",
       "...                                                 ...   \n",
       "8916  송영길 더불어민주당 대표가 16일 오전 국회에서 취임 후 첫 교섭단체 대표연설에 나...   \n",
       "8917  김기현 국민의힘 원내대표가 17일 국회 교섭단체 대표연설을 통해 문재인 정부의 실정...   \n",
       "8918  김기현 국민의힘 원내대표가 17일 국회 교섭단체 대표연설을 통해 문재인 정부의 실정...   \n",
       "8919  윤석열 전 검찰총장이 29일 \"상식을 무기로 무너진 자유민주주의와 법치, 시대와 세...   \n",
       "8920  윤석열 전 검찰총장이 대선 출마를 공식 선언한 29일 윤석열 테마주는 일제히 급락했...   \n",
       "\n",
       "                                                summary  \n",
       "0     윤석열 전 검찰총장의 명예를 훼손했다며 지난 3월 법치주의바로세우기행동연대가 조국 ...  \n",
       "1     앵커 김진욱 공수처장은 정치적 논란 사건을 피하기보다는 어떤 방식으로 수사하고 결론...  \n",
       "2     이 대변인은 기자들에게 보낸 메시지에서 일신상의 이유로 직을 내려놓는다고 밝혔습니다...  \n",
       "3     윤석열 전 검찰총장이 최근 이른바 X파일 의혹에 대해 반박했습니다\\n윤 전 총장은 ...  \n",
       "4     윤석열 전 검찰총장 장모 최 모 씨의 사기 의혹 등을 재수사한 경찰이 혐의없음 결론...  \n",
       "...                                                 ...  \n",
       "8916  존경하는 국민 여러분 선배동료 의원 여러분  집값 폭등으로 서민들의 희망이 꺾이고 ...  \n",
       "8917  지금 문재인정부와 민주당이 그렇게 하고 있습니다\\n그런데 문재인정부와 민주당은 거꾸...  \n",
       "8918  지금 문재인정부와 민주당이 그렇게 하고 있습니다\\n그런데 문재인정부와 민주당은 거꾸...  \n",
       "8919  우리 모두 똑똑히 기억하고 있습니다\\n그래야만 이길 수 있습니다\\n위대한 국민 여러...  \n",
       "8920  이들 종목은 오너가 윤 전 총장과 출신 지역이나 학교가 같아 테마주로 불려왔다\\n이...  \n",
       "\n",
       "[8921 rows x 2 columns]"
      ]
     },
     "execution_count": 21,
     "metadata": {},
     "output_type": "execute_result"
    }
   ],
   "source": [
    "df"
   ]
  },
  {
   "cell_type": "code",
   "execution_count": 29,
   "metadata": {},
   "outputs": [],
   "source": [
    "df.to_csv('요약_test.csv',encoding='utf-8-sig')"
   ]
  },
  {
   "cell_type": "markdown",
   "metadata": {},
   "source": [
    "# 기사 요약(개별)"
   ]
  },
  {
   "cell_type": "code",
   "execution_count": 10,
   "metadata": {},
   "outputs": [],
   "source": [
    "def summary(text):\n",
    "    class MyTokenizer:\n",
    "        def __call__(self, text: str) -> List[str]:\n",
    "            tokens: List[str] = text.split()\n",
    "            return tokens\n",
    "    mytokenizer: MyTokenizer = MyTokenizer()\n",
    "    textrank: TextRank = TextRank(mytokenizer)\n",
    "\n",
    "    k: int = 3  # num sentences in the resulting summary\n",
    "    text2 =re.sub('[^0-9a-zA-Zㄱ-힗. ]','',text)\n",
    "    summarized: str = textrank.summarize(text2, k)\n",
    "    print(summarized)"
   ]
  },
  {
   "cell_type": "code",
   "execution_count": 11,
   "metadata": {},
   "outputs": [
    {
     "name": "stdout",
     "output_type": "stream",
     "text": [
      "윤석열 전 검찰총장의 명예를 훼손했다며 지난 3월 법치주의바로세우기행동연대가 조국 전 법무부 장관을 고발한 사건을 경찰이 종결했습니다\n",
      "서울 관악경찰서는 윤 전 총장이 처벌을 원하지 않는다며 처벌불원서를 제출해 지난달 22일 불송치 결정하고 수사를 종결했습니다\n",
      "앞서 법세련은 윤 전 총장이 수사ㆍ기소 분리를 찬성했다는 취지의 글을 페이스북에 올려 윤 전 총장의 명예를 훼손했다며 조 전 장관을 고발했었습니다\n"
     ]
    }
   ],
   "source": [
    "summary(df['content'][0])"
   ]
  },
  {
   "cell_type": "code",
   "execution_count": 12,
   "metadata": {},
   "outputs": [
    {
     "data": {
      "text/plain": [
       "\"윤석열 전 검찰총장의 명예를 훼손했다며 지난 3월 법치주의바로세우기행동연대가 조국 전 법무부 장관을 고발한 사건을 경찰이 종결했습니다. \\n\\n서울 관악경찰서는 윤 전 총장이 처벌을 원하지 않는다며 '처벌불원서'를 제출해 지난달 22일 불송치 결정하고 수사를 종결했습니다. \\n\\n앞서 법세련은 윤 전 총장이 수사ㆍ기소 분리를 찬성했다는 취지의 글을 페이스북에 올려 윤 전 총장의 명예를 훼손했다며 조 전 장관을 고발했었습니다.<유재명(yjm@obs.co.kr)>\""
      ]
     },
     "execution_count": 12,
     "metadata": {},
     "output_type": "execute_result"
    }
   ],
   "source": [
    "df['content'][0]"
   ]
  },
  {
   "cell_type": "code",
   "execution_count": null,
   "metadata": {},
   "outputs": [],
   "source": []
  }
 ],
 "metadata": {
  "kernelspec": {
   "display_name": "Python 3",
   "language": "python",
   "name": "python3"
  },
  "language_info": {
   "codemirror_mode": {
    "name": "ipython",
    "version": 3
   },
   "file_extension": ".py",
   "mimetype": "text/x-python",
   "name": "python",
   "nbconvert_exporter": "python",
   "pygments_lexer": "ipython3",
   "version": "3.8.5"
  }
 },
 "nbformat": 4,
 "nbformat_minor": 4
}
