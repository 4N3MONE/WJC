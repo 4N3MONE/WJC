{
 "metadata": {
  "language_info": {
   "codemirror_mode": {
    "name": "ipython",
    "version": 3
   },
   "file_extension": ".py",
   "mimetype": "text/x-python",
   "name": "python",
   "nbconvert_exporter": "python",
   "pygments_lexer": "ipython3",
   "version": "3.6.3"
  },
  "orig_nbformat": 4,
  "kernelspec": {
   "name": "python3",
   "display_name": "Python 3.6.3 64-bit"
  },
  "interpreter": {
   "hash": "94924fd39d2774ab60feff45dd5135d83272da01bb2cc5164a87c902612d2eb3"
  }
 },
 "nbformat": 4,
 "nbformat_minor": 2,
 "cells": [
  {
   "cell_type": "code",
   "execution_count": 100,
   "metadata": {},
   "outputs": [],
   "source": [
    "with open('C:\\\\py_temp\\\\bigkinds\\\\감정분석\\\\neg_pol_word.txt', encoding='utf-8') as neg:\n",
    "  negative=neg.readlines()\n",
    "negative=[neg.replace(\"\\n\", \"\") for neg in negative]\n",
    "\n",
    "with open('C:\\\\py_temp\\\\bigkinds\\\\감정분석\\\\pos_pol_word.txt', encoding='utf-8') as pos:\n",
    "  positive=pos.readlines()\n",
    "positive = [pos.replace(\"\\n\", \"\") for pos in positive]"
   ]
  },
  {
   "cell_type": "code",
   "execution_count": 101,
   "metadata": {},
   "outputs": [],
   "source": [
    "from tqdm import tqdm\n",
    "import csv\n",
    "import pandas as pd\n",
    "import re\n",
    "labels=[]\n",
    "df=pd.read_csv('C:\\\\py_temp\\\\bigkinds\\\\본문수집\\\\본문수집_빅데이터_from2021-06-01to2021-06-08.csv')\n",
    "data=df['content']"
   ]
  },
  {
   "cell_type": "code",
   "execution_count": 102,
   "metadata": {
    "tags": []
   },
   "outputs": [
    {
     "output_type": "stream",
     "name": "stderr",
     "text": [
      "100%|██████████| 711/711 [00:16<00:00, 43.18it/s]\n"
     ]
    }
   ],
   "source": [
    "negative_flag=[0]*len(negative)\n",
    "positive_flag=[0]*len(positive)\n",
    "for title in tqdm(data):\n",
    "  rt=str(title)\n",
    "  for q in range(len(negative)):\n",
    "    n=str(negative[q])\n",
    "    if n in rt:\n",
    "      negative_flag[q]=negative_flag[q]+1\n",
    "  for q in range(len(positive)):\n",
    "    p=str(positive[q])\n",
    "    if p in rt:\n",
    "      positive_flag[q]=positive_flag[q]+1\n",
    "resultList=[]\n",
    "for j in range(len(negative)):\n",
    "  res={\"word\":negative[j], \"count\":negative_flag[j]}\n",
    "  resultList.append(res)\n",
    "dpneg=pd.DataFrame(resultList)\n",
    "dpneg.to_csv('C:\\\\py_temp\\\\bigkinds\\\\감정분석\\\\부정_본문수집_빅데이터_from2021-06-01to2021-06-08.csv',encoding=\"utf-8-sig\")\n",
    "dpneg.to_excel('C:\\\\py_temp\\\\bigkinds\\\\감정분석\\\\부정_본문수집_빅데이터_from2021-06-01to2021-06-08.xlsx')\n",
    "resultList=[]\n",
    "for j in range(len(positive)):\n",
    "  res={\"word\":positive[j], \"count\":positive_flag[j]}\n",
    "  resultList.append(res)\n",
    "dppos=pd.DataFrame(resultList)\n",
    "dppos.to_csv('C:\\\\py_temp\\\\bigkinds\\\\감정분석\\\\긍정_본문수집_빅데이터_from2021-06-01to2021-06-08.csv',encoding=\"utf-8-sig\")\n",
    "dppos.to_excel('C:\\\\py_temp\\\\bigkinds\\\\감정분석\\\\긍정_본문수집_빅데이터_from2021-06-01to2021-06-08.xlsx')"
   ]
  },
  {
   "cell_type": "code",
   "execution_count": 103,
   "metadata": {},
   "outputs": [
    {
     "output_type": "execute_result",
     "data": {
      "text/plain": [
       "7694"
      ]
     },
     "metadata": {},
     "execution_count": 103
    }
   ],
   "source": [
    "dppos['count'].sum()\n"
   ]
  },
  {
   "cell_type": "code",
   "execution_count": 69,
   "metadata": {},
   "outputs": [
    {
     "output_type": "error",
     "ename": "TypeError",
     "evalue": "'method' object is not subscriptable",
     "traceback": [
      "\u001b[1;31m---------------------------------------------------------------------------\u001b[0m",
      "\u001b[1;31mTypeError\u001b[0m                                 Traceback (most recent call last)",
      "\u001b[1;32m<ipython-input-69-9fa4a7f57470>\u001b[0m in \u001b[0;36m<module>\u001b[1;34m\u001b[0m\n\u001b[1;32m----> 1\u001b[1;33m \u001b[0mdpneg\u001b[0m\u001b[1;33m.\u001b[0m\u001b[0msort_values\u001b[0m\u001b[1;33m[\u001b[0m\u001b[1;34m'count'\u001b[0m\u001b[1;33m]\u001b[0m\u001b[1;33m\u001b[0m\u001b[0m\n\u001b[0m",
      "\u001b[1;31mTypeError\u001b[0m: 'method' object is not subscriptable"
     ]
    }
   ],
   "source": []
  },
  {
   "cell_type": "code",
   "execution_count": null,
   "metadata": {},
   "outputs": [],
   "source": []
  }
 ]
}