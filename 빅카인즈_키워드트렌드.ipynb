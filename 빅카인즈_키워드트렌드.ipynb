{
 "metadata": {
  "language_info": {
   "codemirror_mode": {
    "name": "ipython",
    "version": 3
   },
   "file_extension": ".py",
   "mimetype": "text/x-python",
   "name": "python",
   "nbconvert_exporter": "python",
   "pygments_lexer": "ipython3",
   "version": "3.6.3"
  },
  "orig_nbformat": 2,
  "kernelspec": {
   "name": "python3",
   "display_name": "Python 3.6.3 64-bit"
  },
  "interpreter": {
   "hash": "94924fd39d2774ab60feff45dd5135d83272da01bb2cc5164a87c902612d2eb3"
  }
 },
 "nbformat": 4,
 "nbformat_minor": 2,
 "cells": [
  {
   "cell_type": "code",
   "execution_count": 93,
   "source": [
    "import requests\r\n",
    "import json\r\n",
    "import pprint\r\n",
    "import pandas\r\n",
    "\r\n",
    "url = 'http://tools.kinds.or.kr:8888/time_line'\r\n",
    "data = {\r\n",
    "    \"access_key\": \"b1f22ec0-39da-4a93-8779-c3c059778956\",\r\n",
    "    \"argument\": {\r\n",
    "        \"query\": \"연기면\",\r\n",
    "        \"published_at\": {\r\n",
    "            \"from\": \"2021-05-01\",\r\n",
    "            \"until\": \"2021-05-31\"\r\n",
    "        },\r\n",
    "        \"provider\": [\r\n",
    "           \r\n",
    "        ],\r\n",
    "        \"category\": [\r\n",
    "          \r\n",
    "        ],\r\n",
    "        \"category_incident\": [\r\n",
    "         \r\n",
    "        ],\r\n",
    "        \"byline\": \"\",\r\n",
    "        \"provider_subject\": [],\r\n",
    "        \"interval\": \"month\",\r\n",
    "        \"normalize\": \"true\"\r\n",
    "    }\r\n",
    "}\r\n",
    "res = requests.post(url, json=data)\r\n",
    "\r\n",
    "res.json()"
   ],
   "outputs": [
    {
     "output_type": "execute_result",
     "data": {
      "text/plain": [
       "{'result': 0,\n",
       " 'return_object': {'total_hists': 74,\n",
       "  'time_line': [{'label': '202105', 'hits': 74}]}}"
      ]
     },
     "metadata": {},
     "execution_count": 93
    }
   ],
   "metadata": {}
  },
  {
   "cell_type": "code",
   "execution_count": null,
   "source": [],
   "outputs": [],
   "metadata": {}
  },
  {
   "cell_type": "code",
   "execution_count": null,
   "source": [],
   "outputs": [],
   "metadata": {}
  }
 ]
}