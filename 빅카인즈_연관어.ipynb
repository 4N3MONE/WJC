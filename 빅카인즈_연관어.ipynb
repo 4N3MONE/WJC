{
 "metadata": {
  "language_info": {
   "codemirror_mode": {
    "name": "ipython",
    "version": 3
   },
   "file_extension": ".py",
   "mimetype": "text/x-python",
   "name": "python",
   "nbconvert_exporter": "python",
   "pygments_lexer": "ipython3",
   "version": "3.6.3"
  },
  "orig_nbformat": 2,
  "kernelspec": {
   "name": "python3",
   "display_name": "Python 3.6.3 64-bit"
  },
  "metadata": {
   "interpreter": {
    "hash": "94924fd39d2774ab60feff45dd5135d83272da01bb2cc5164a87c902612d2eb3"
   }
  },
  "interpreter": {
   "hash": "94924fd39d2774ab60feff45dd5135d83272da01bb2cc5164a87c902612d2eb3"
  }
 },
 "nbformat": 4,
 "nbformat_minor": 2,
 "cells": [
  {
   "cell_type": "code",
   "execution_count": 15,
   "metadata": {},
   "outputs": [
    {
     "output_type": "execute_result",
     "data": {
      "text/plain": [
       "{'result': 0,\n",
       " 'return_object': {'nodes': [{'id': 2,\n",
       "    'name': '세종세무서',\n",
       "    'level': 1,\n",
       "    'weight': 5.19},\n",
       "   {'id': 3, 'name': '행정중심복합도시건설청', 'level': 3, 'weight': 5.04},\n",
       "   {'id': 4, 'name': '행복청', 'level': 3, 'weight': 4.5},\n",
       "   {'id': 6, 'name': '교육청', 'level': 3, 'weight': 2.18},\n",
       "   {'id': 7, 'name': '복합커뮤니티센터', 'level': 3, 'weight': 1.6},\n",
       "   {'id': 8, 'name': '공공청사', 'level': 3, 'weight': 1.33},\n",
       "   {'id': 10, 'name': '결과 최우수상', 'level': 3, 'weight': 1.33},\n",
       "   {'id': 11, 'name': '밑그림', 'level': 3, 'weight': 0.89},\n",
       "   {'id': 12, 'name': '김연아', 'level': 3, 'weight': 0.86},\n",
       "   {'id': 13, 'name': '공실률', 'level': 2, 'weight': 2.64},\n",
       "   {'id': 15, 'name': '강남', 'level': 3, 'weight': 1.67},\n",
       "   {'id': 16, 'name': '50~60%', 'level': 3, 'weight': 1.5},\n",
       "   {'id': 18, 'name': '주거지역', 'level': 3, 'weight': 1.0},\n",
       "   {'id': 19, 'name': '경우 강변 쪽 상가', 'level': 3, 'weight': 0.86},\n",
       "   {'id': 20, 'name': '코로나19', 'level': 2, 'weight': 2.4},\n",
       "   {'id': 21, 'name': '일시폐쇄', 'level': 3, 'weight': 0.86},\n",
       "   {'id': 22, 'name': '사무실', 'level': 3, 'weight': 0.8},\n",
       "   {'id': 23, 'name': '세원', 'level': 2, 'weight': 2.18},\n",
       "   {'id': 24, 'name': '사업체', 'level': 3, 'weight': 2.0},\n",
       "   {'id': 25, 'name': '행복도시', 'level': 2, 'weight': 2.0},\n",
       "   {'id': 26, 'name': '시청 건물', 'level': 3, 'weight': 1.71},\n",
       "   {'id': 27, 'name': '대전세종연구원', 'level': 3, 'weight': 1.5},\n",
       "   {'id': 28, 'name': '요식업', 'level': 3, 'weight': 0.86},\n",
       "   {'id': 29, 'name': '금강', 'level': 3, 'weight': 1.33},\n",
       "   {'id': 30, 'name': '기관 종사자 특공 제도', 'level': 3, 'weight': 1.0},\n",
       "   {'id': 31, 'name': '세종 여울유치원 어린이들', 'level': 3, 'weight': 1.0},\n",
       "   {'id': 32, 'name': '지역화폐', 'level': 3, 'weight': 1.0},\n",
       "   {'id': 33, 'name': '호려울마을', 'level': 3, 'weight': 1.0},\n",
       "   {'id': 34, 'name': '물놀이장', 'level': 3, 'weight': 0.89},\n",
       "   {'id': 35, 'name': '스케이트장', 'level': 3, 'weight': 0.89},\n",
       "   {'id': 36, 'name': '특정 대권 주자', 'level': 3, 'weight': 0.86}]}}"
      ]
     },
     "metadata": {},
     "execution_count": 15
    }
   ],
   "source": [
    "import requests\n",
    "import json\n",
    "import pprint\n",
    "import pandas as pd\n",
    "import openpyxl\n",
    "\n",
    "query = input(\"검색할 키워드를 입력해주세요 :\")\n",
    "# startdate = input(\"검색 시작 기간을 입력해 주세요 20xx-xx-xx\")\n",
    "# enddate = input(\"검색 종료 기간을 입력해 주세요 20xx-xx-xx\")\n",
    "startdate = \"2021-06-01\"\n",
    "enddate = '2021-06-30'\n",
    "url = 'http://tools.kinds.or.kr:8888/word_cloud'\n",
    "data = {\n",
    "    \"access_key\": \"*******\",\n",
    "    \"argument\": {\n",
    "        \"query\": query,\n",
    "        \"published_at\": {\n",
    "            \"from\": \"2021-06-01\",\n",
    "            \"until\": \"2021-06-30\"\n",
    "        },\n",
    "        \"provider\": [\n",
    "            \n",
    "        ],\n",
    "        \"category\": [\n",
    "            \n",
    "        ],\n",
    "        \"category_incident\": [\n",
    "           \n",
    "        ],\n",
    "        \"byline\": \"\",\n",
    "        \"provider_subject\": [  ]\n",
    "    }\n",
    "}\n",
    "\n",
    "res = requests.post(url, json=data)\n",
    "res_json = res.json()\n",
    "res_json"
   ]
  },
  {
   "cell_type": "code",
   "execution_count": 7,
   "metadata": {},
   "outputs": [
    {
     "output_type": "execute_result",
     "data": {
      "text/plain": [
       "'도담동'"
      ]
     },
     "metadata": {},
     "execution_count": 7
    }
   ],
   "source": [
    "query\n"
   ]
  },
  {
   "cell_type": "code",
   "execution_count": null,
   "metadata": {},
   "outputs": [],
   "source": []
  }
 ]
}
