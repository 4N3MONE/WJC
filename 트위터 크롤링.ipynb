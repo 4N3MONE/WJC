{
 "cells": [
  {
   "cell_type": "code",
   "execution_count": 1,
   "metadata": {},
   "outputs": [],
   "source": [
    "import tweepy\n",
    "import os"
   ]
  },
  {
   "cell_type": "code",
   "execution_count": 2,
   "metadata": {},
   "outputs": [],
   "source": [
    "consumer_key='HTweNEwcrepTkMCFSDy3UhIaZ'\n",
    "consumer_secret='Fw4SFCPRCLbNI24aj9Lrt0MlmtPmFzWJSiTKHgy9jEZcGs4v4y'\n",
    "access_token='1420224935218204675-20CpfLkFDzGSo9VRGTUdjsyC9hPSzz'\n",
    "access_token_secret='jJoXopefTquOkj3xDOdLYQh4RxVGl6JPQqYHt5yqI2SRZ'"
   ]
  },
  {
   "cell_type": "code",
   "execution_count": 3,
   "metadata": {},
   "outputs": [],
   "source": [
    "auth = tweepy.OAuthHandler(consumer_key, consumer_secret)"
   ]
  },
  {
   "cell_type": "code",
   "execution_count": 4,
   "metadata": {},
   "outputs": [],
   "source": [
    "auth.set_access_token(access_token, access_token_secret)"
   ]
  },
  {
   "cell_type": "code",
   "execution_count": 5,
   "metadata": {},
   "outputs": [],
   "source": [
    "api = tweepy.API(auth,wait_on_rate_limit=True)"
   ]
  },
  {
   "cell_type": "code",
   "execution_count": 23,
   "metadata": {},
   "outputs": [],
   "source": [
    "keyword='이재명'\n",
    "startdate='2021-09-01'"
   ]
  },
  {
   "cell_type": "code",
   "execution_count": 24,
   "metadata": {},
   "outputs": [],
   "source": [
    "wfile = open(os.getcwd()+\"/twitter_{}_{}.csv\".format(keyword,startdate), mode='a',encoding='utf-8-sig')"
   ]
  },
  {
   "cell_type": "code",
   "execution_count": 25,
   "metadata": {},
   "outputs": [],
   "source": [
    "cursor=tweepy.Cursor(api.search,\n",
    "                     q=keyword,\n",
    "                     since=startdate,\n",
    "                     count=100)"
   ]
  },
  {
   "cell_type": "code",
   "execution_count": 26,
   "metadata": {
    "scrolled": true
   },
   "outputs": [],
   "source": [
    "for i, tweet in enumerate(cursor.items()):\n",
    "    print(\"{}:{}--{}\".format(i,tweet.text,tweet.created_at))\n",
    "    wfile.write(tweet.text)"
   ]
  },
  {
   "cell_type": "code",
   "execution_count": 27,
   "metadata": {},
   "outputs": [],
   "source": [
    "wfile.close()   "
   ]
  },
  {
   "cell_type": "markdown",
   "metadata": {},
   "source": [
    "# 트위터 감정분석"
   ]
  },
  {
   "cell_type": "code",
   "execution_count": 83,
   "metadata": {},
   "outputs": [],
   "source": [
    "import pandas as pd\n",
    "import numpy as np\n",
    "import matplotlib.pyplot as plt\n",
    "import matplotlib\n",
    "from konlpy.tag import Okt\n",
    "import csv"
   ]
  },
  {
   "cell_type": "code",
   "execution_count": 84,
   "metadata": {},
   "outputs": [],
   "source": [
    "stopwords=pd.read_csv(\"불용어.csv\",encoding='utf-8')\n",
    "stopwords=list(stopwords['단어'])"
   ]
  },
  {
   "cell_type": "code",
   "execution_count": 85,
   "metadata": {},
   "outputs": [],
   "source": [
    "df=pd.read_csv(os.getcwd()+\"/twitter_{}_{}.csv\".format(keyword,startdate),sep='\\n',header=None)"
   ]
  },
  {
   "cell_type": "code",
   "execution_count": 86,
   "metadata": {},
   "outputs": [
    {
     "data": {
      "text/html": [
       "<div>\n",
       "<style scoped>\n",
       "    .dataframe tbody tr th:only-of-type {\n",
       "        vertical-align: middle;\n",
       "    }\n",
       "\n",
       "    .dataframe tbody tr th {\n",
       "        vertical-align: top;\n",
       "    }\n",
       "\n",
       "    .dataframe thead th {\n",
       "        text-align: right;\n",
       "    }\n",
       "</style>\n",
       "<table border=\"1\" class=\"dataframe\">\n",
       "  <thead>\n",
       "    <tr style=\"text-align: right;\">\n",
       "      <th></th>\n",
       "      <th>0</th>\n",
       "    </tr>\n",
       "  </thead>\n",
       "  <tbody>\n",
       "    <tr>\n",
       "      <th>0</th>\n",
       "      <td>RT @PuppyOverFlower: “이번 논란의 시발점이 여성 중심의 이른바 여...</td>\n",
       "    </tr>\n",
       "    <tr>\n",
       "      <th>1</th>\n",
       "      <td>김…RT @PuppyOverFlower: “이번 논란의 시발점이 여성 중심의 이른바...</td>\n",
       "    </tr>\n",
       "    <tr>\n",
       "      <th>2</th>\n",
       "      <td>김…RT @PuppyOverFlower: “이번 논란의 시발점이 여성 중심의 이른바...</td>\n",
       "    </tr>\n",
       "    <tr>\n",
       "      <th>3</th>\n",
       "      <td>김…RT @athmtg1: 출처 - 한겨레</td>\n",
       "    </tr>\n",
       "    <tr>\n",
       "      <th>4</th>\n",
       "      <td>제목 - 30분 전, 이준석의 돌발 보이콧…언론중재법 ‘100분 토론’ 결방</td>\n",
       "    </tr>\n",
       "    <tr>\n",
       "      <th>...</th>\n",
       "      <td>...</td>\n",
       "    </tr>\n",
       "    <tr>\n",
       "      <th>40965</th>\n",
       "      <td>무엇을</td>\n",
       "    </tr>\n",
       "    <tr>\n",
       "      <th>40966</th>\n",
       "      <td>민주당보다 세게 한다라는 거죠?</td>\n",
       "    </tr>\n",
       "    <tr>\n",
       "      <th>40967</th>\n",
       "      <td>이준석</td>\n",
       "    </tr>\n",
       "    <tr>\n",
       "      <th>40968</th>\n",
       "      <td>끝까지 지켜보마</td>\n",
       "    </tr>\n",
       "    <tr>\n",
       "      <th>40969</th>\n",
       "      <td>https://t.co/FpwJEEV2NE</td>\n",
       "    </tr>\n",
       "  </tbody>\n",
       "</table>\n",
       "<p>40970 rows × 1 columns</p>\n",
       "</div>"
      ],
      "text/plain": [
       "                                                       0\n",
       "0      RT @PuppyOverFlower: “이번 논란의 시발점이 여성 중심의 이른바 여...\n",
       "1      김…RT @PuppyOverFlower: “이번 논란의 시발점이 여성 중심의 이른바...\n",
       "2      김…RT @PuppyOverFlower: “이번 논란의 시발점이 여성 중심의 이른바...\n",
       "3                                김…RT @athmtg1: 출처 - 한겨레\n",
       "4             제목 - 30분 전, 이준석의 돌발 보이콧…언론중재법 ‘100분 토론’ 결방\n",
       "...                                                  ...\n",
       "40965                                               무엇을 \n",
       "40966                                  민주당보다 세게 한다라는 거죠?\n",
       "40967                                                이준석\n",
       "40968                                           끝까지 지켜보마\n",
       "40969                            https://t.co/FpwJEEV2NE\n",
       "\n",
       "[40970 rows x 1 columns]"
      ]
     },
     "execution_count": 86,
     "metadata": {},
     "output_type": "execute_result"
    }
   ],
   "source": [
    "df"
   ]
  },
  {
   "cell_type": "code",
   "execution_count": 87,
   "metadata": {},
   "outputs": [],
   "source": [
    "table=dict()\n",
    "with open(\"polarity.csv\",'r',-1,'ANSI') as polarity:\n",
    "    next(polarity)\n",
    "    for line in csv.reader(polarity):\n",
    "        key=str()\n",
    "        for word in line[0].split(';'):\n",
    "            key+=word.split('/')[0]\n",
    "        table[key]={'Neg':line[3], 'Neut': line[4], 'Pos':line[6]}"
   ]
  },
  {
   "cell_type": "code",
   "execution_count": 88,
   "metadata": {},
   "outputs": [],
   "source": [
    "score=pd.DataFrame(columns=['Negative','Neutral','Positive'])"
   ]
  },
  {
   "cell_type": "code",
   "execution_count": 89,
   "metadata": {},
   "outputs": [],
   "source": [
    "news = df[0].replace('[^0-9a-zA-Zㄱ-힗. ]', '')"
   ]
  },
  {
   "cell_type": "code",
   "execution_count": 90,
   "metadata": {},
   "outputs": [],
   "source": [
    "news=news.replace('[^0-9a-zA-Zㄱ-힗. ]', '')"
   ]
  },
  {
   "cell_type": "code",
   "execution_count": 91,
   "metadata": {},
   "outputs": [],
   "source": [
    "okt=Okt()\n",
    "tokens=[]\n",
    "for article in news:\n",
    "    temp=okt.morphs(article)\n",
    "    temp=[word for word in temp if not word in stopwords]\n",
    "    #temp= [(i[0]+'/'+i[1]) for i in temp]\n",
    "    tokens.append(temp)"
   ]
  },
  {
   "cell_type": "code",
   "execution_count": 92,
   "metadata": {},
   "outputs": [],
   "source": [
    "neg_list=[]\n",
    "neut_list=[]\n",
    "pos_list=[]\n",
    "word_list=[word for sublist in tokens for word in sublist]\n",
    "for token in tokens:\n",
    "    neg=0\n",
    "    neut=0\n",
    "    pos=0\n",
    "    for word in token:\n",
    "        if word in table:\n",
    "            neg+=float(table[word]['Neg'])\n",
    "            neut+=float(table[word]['Neut'])\n",
    "            pos+=float(table[word]['Pos'])\n",
    "\n",
    "    neg_list.append(neg)\n",
    "    neut_list.append(neut)\n",
    "    pos_list.append(pos)\n",
    "score['Negative']=neg_list\n",
    "score['Neutral']=neut_list\n",
    "score['Positive']=pos_list"
   ]
  },
  {
   "cell_type": "code",
   "execution_count": 93,
   "metadata": {},
   "outputs": [],
   "source": [
    "score.to_csv('score_twitter.csv')"
   ]
  },
  {
   "cell_type": "code",
   "execution_count": 94,
   "metadata": {},
   "outputs": [],
   "source": [
    "neg_sum=sum(score['Negative'])\n",
    "neut_sum=sum(score['Neutral'])\n",
    "pos_sum=sum(score['Positive'])"
   ]
  },
  {
   "cell_type": "code",
   "execution_count": 95,
   "metadata": {},
   "outputs": [
    {
     "data": {
      "text/plain": [
       "103087.99558539026"
      ]
     },
     "execution_count": 95,
     "metadata": {},
     "output_type": "execute_result"
    }
   ],
   "source": [
    "neg_sum"
   ]
  },
  {
   "cell_type": "code",
   "execution_count": 96,
   "metadata": {},
   "outputs": [
    {
     "data": {
      "text/plain": [
       "14363.953045620457"
      ]
     },
     "execution_count": 96,
     "metadata": {},
     "output_type": "execute_result"
    }
   ],
   "source": [
    "neut_sum"
   ]
  },
  {
   "cell_type": "code",
   "execution_count": 97,
   "metadata": {},
   "outputs": [
    {
     "data": {
      "text/plain": [
       "116496.21602173176"
      ]
     },
     "execution_count": 97,
     "metadata": {},
     "output_type": "execute_result"
    }
   ],
   "source": [
    "pos_sum"
   ]
  },
  {
   "cell_type": "code",
   "execution_count": 98,
   "metadata": {},
   "outputs": [],
   "source": [
    "%matplotlib inline"
   ]
  },
  {
   "cell_type": "code",
   "execution_count": 99,
   "metadata": {},
   "outputs": [
    {
     "data": {
      "image/png": "[encoded data removed]",
      "text/plain": [
       "<Figure size 432x288 with 1 Axes>"
      ]
     },
     "metadata": {},
     "output_type": "display_data"
    },
    {
     "data": {
      "text/plain": [
       "<Figure size 432x288 with 0 Axes>"
      ]
     },
     "metadata": {},
     "output_type": "display_data"
    }
   ],
   "source": [
    "#폰트 이름 얻어오기\n",
    "'''import matplotlib\n",
    "from matplotlib import font_manager, rc\n",
    "font_path = \"C:/Windows/Fonts/H2GTRM.TTF\"\n",
    "font_name = font_manager.FontProperties(fname=font_path).get_name()\n",
    "matplotlib.rc('font',family=font_name)'''\n",
    "\n",
    "poscount = score['Positive'].sum()\n",
    "negcount = score['Negative'].sum()\n",
    "ratio = [poscount, negcount]\n",
    "names = ['긍정', '부정']\n",
    "plt.title(keyword)\n",
    "plt.pie(ratio, labels=names, autopct=\"%.1f%%\")\n",
    "plt.show()\n",
    "plt.savefig('감성분석결과_트위터_{}.png'.format(keyword))"
   ]
  },
  {
   "cell_type": "markdown",
   "metadata": {},
   "source": [
    "# 키워드 빈도수"
   ]
  },
  {
   "cell_type": "code",
   "execution_count": null,
   "metadata": {},
   "outputs": [],
   "source": [
    "from wordcloud import WordCloud,ImageColorGenerator\n",
    "from collections import Counter\n",
    "from PIL import Image\n",
    "import numpy as np"
   ]
  },
  {
   "cell_type": "code",
   "execution_count": null,
   "metadata": {},
   "outputs": [],
   "source": [
    "okt=Okt()\n",
    "tokens=[]\n",
    "for article in news:\n",
    "    temp=okt.nouns(article)\n",
    "    temp=[word for word in temp if not word in stopwords]\n",
    "    tokens.append(temp)  "
   ]
  },
  {
   "cell_type": "code",
   "execution_count": null,
   "metadata": {},
   "outputs": [],
   "source": [
    "tokens=[item for sublist in tokens for item in sublist]"
   ]
  },
  {
   "cell_type": "code",
   "execution_count": null,
   "metadata": {},
   "outputs": [],
   "source": [
    "for token in tokens:\n",
    "    if len(token)==1:\n",
    "        tokens.pop(tokens.index(token))"
   ]
  },
  {
   "cell_type": "code",
   "execution_count": null,
   "metadata": {},
   "outputs": [],
   "source": [
    "for token in tokens:\n",
    "    if token=='무니':\n",
    "        tokens[tokens.index(token)]='터무니'"
   ]
  },
  {
   "cell_type": "code",
   "execution_count": null,
   "metadata": {},
   "outputs": [],
   "source": [
    "counts=Counter(tokens)"
   ]
  },
  {
   "cell_type": "code",
   "execution_count": null,
   "metadata": {},
   "outputs": [],
   "source": [
    "counts=sorted(counts.items(), key=lambda x : x[1],reverse=True)"
   ]
  },
  {
   "cell_type": "code",
   "execution_count": null,
   "metadata": {},
   "outputs": [],
   "source": [
    "counts"
   ]
  },
  {
   "cell_type": "code",
   "execution_count": null,
   "metadata": {},
   "outputs": [],
   "source": [
    "image=Image.open(\"C:/Users/user/Pictures/wordcloud3.png\")\n",
    "mask=np.array(image)"
   ]
  },
  {
   "cell_type": "code",
   "execution_count": null,
   "metadata": {},
   "outputs": [],
   "source": [
    "wc = WordCloud(mask=mask,font_path=\"C:/Users/user/AppData/Local/Microsoft/Windows/Fonts/현대체Medium.ttf\",stopwords=stopwords,background_color=\"white\",max_font_size=1500)"
   ]
  },
  {
   "cell_type": "code",
   "execution_count": null,
   "metadata": {},
   "outputs": [],
   "source": [
    "cloud = wc.generate_from_frequencies(dict(counts))"
   ]
  },
  {
   "cell_type": "code",
   "execution_count": null,
   "metadata": {},
   "outputs": [],
   "source": [
    "%matplotlib inline\n",
    "plt.figure(figsize=(10, 8))\n",
    "plt.imshow(cloud)\n",
    "plt.axis('off')\n",
    "plt.show()\n",
    "#cloud.to_file('test.jpg')"
   ]
  },
  {
   "cell_type": "code",
   "execution_count": 10,
   "metadata": {},
   "outputs": [
    {
     "name": "stdout",
     "output_type": "stream",
     "text": [
      "OpenSSL 1.1.1h  22 Sep 2020\n"
     ]
    }
   ],
   "source": [
    "import ssl\n",
    "print(ssl.OPENSSL_VERSION)"
   ]
  },
  {
   "cell_type": "code",
   "execution_count": null,
   "metadata": {},
   "outputs": [],
   "source": []
  },
  {
   "cell_type": "code",
   "execution_count": null,
   "metadata": {},
   "outputs": [],
   "source": []
  }
 ],
 "metadata": {
  "kernelspec": {
   "display_name": "Python 3",
   "language": "python",
   "name": "python3"
  },
  "language_info": {
   "codemirror_mode": {
    "name": "ipython",
    "version": 3
   },
   "file_extension": ".py",
   "mimetype": "text/x-python",
   "name": "python",
   "nbconvert_exporter": "python",
   "pygments_lexer": "ipython3",
   "version": "3.8.5"
  }
 },
 "nbformat": 4,
 "nbformat_minor": 4
}
