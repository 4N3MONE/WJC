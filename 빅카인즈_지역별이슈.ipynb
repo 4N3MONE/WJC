{
 "metadata": {
  "language_info": {
   "codemirror_mode": {
    "name": "ipython",
    "version": 3
   },
   "file_extension": ".py",
   "mimetype": "text/x-python",
   "name": "python",
   "nbconvert_exporter": "python",
   "pygments_lexer": "ipython3",
   "version": "3.6.3"
  },
  "orig_nbformat": 4,
  "kernelspec": {
   "name": "python3",
   "display_name": "Python 3.6.3 64-bit"
  },
  "interpreter": {
   "hash": "94924fd39d2774ab60feff45dd5135d83272da01bb2cc5164a87c902612d2eb3"
  }
 },
 "nbformat": 4,
 "nbformat_minor": 2,
 "cells": [
  {
   "cell_type": "code",
   "execution_count": 15,
   "metadata": {},
   "outputs": [],
   "source": [
    "import requests\n",
    "import json\n",
    "import pprint\n",
    "import pandas as pd\n",
    "import openpyxl\n",
    "import numpy as np\n",
    "query = input(\"\"\"어느 지역의 이슈를 검색하시겠습니까?\n",
    "1. 서울\n",
    "2. 경기/인천\n",
    "3. 강원도\n",
    "4. 대전/세종/충청도\n",
    "5. 광주/전라도\n",
    "6. 부산/울산/대구/경상도\n",
    "7. 제주도\n",
    "\"\"\")\n",
    "\n",
    "\n",
    "if query == \"1\" :  \n",
    "    provider = ['01100611','02100311']\n",
    "    csvname = '서울'\n",
    "    #서울신문, 서울경제\n",
    "if query == \"2\" :\n",
    "    provider = ['01200101','01200201','01400501','08200101']\n",
    "    csvname = '경기/인천'\n",
    "    #경기일보, 경인일보, 중부일보, OBS\n",
    "if query == \"3\" :\n",
    "    provider = ['01300101','01300201']\n",
    "    csvname = '강원도'\n",
    "    #강원도민일보, 강원일보   #서울신문, 서울경제\n",
    "if query == \"2\" :\n",
    "    provider = ['01200101','01200201','01400501','08200101']\n",
    "    csvname = '경기/인천'\n",
    "    #경기일보, 경인일보, 중부일보, OBS\n",
    "if query == \"3\" :\n",
    "    provider = ['01300101','01300201']\n",
    "    csvname = '강원도'\n",
    "    #강원도민일보, 강원일보\n",
    "if query == \"4\" :\n",
    "    provider = ['01400201','01400351','01400401','01400551','01400601','01400701']\n",
    "    csvname = '충청도'\n",
    "    #대전일보, 중도일보, 중부매일,충북일보, 충청일보, 충청투데이 \n",
    "if query == \"5\" :\n",
    "    provider = ['01600201','01600301','01600501','01600801','01601001','01601101']\n",
    "    csvname = '전라도'\n",
    "    #광주매일신문, 광주일보, 무등일보, 전남일보, 전북도민일보, 전북일보\n",
    "if query == \"6\" :\n",
    "    provider = ['01500151','01500051','01500301','01500401','01500501','01500601','01500701','01500801','01500901']\n",
    "    csvname = '경상도'\n",
    "    #경남도민일보, 경남신문, 경상일보, 국제신문, 대구일보, 매일신문, 부산일보, 영남일보, 울산매일\n",
    "if query == \"7\" :\n",
    "    provider = ['01700101','01700201']\n",
    "    csvname = '제주도'\n",
    "    #제민일보, 한라일보\n",
    "\n",
    "date = input(\"이슈를 알고 싶은 날짜를 입력해 주세요. 형식 : 20xx-xx-xx\")\n",
    "filename =    \"C:\\\\py_temp\\\\bigkinds\\\\지역별이슈_{}_{}.csv\".format(date,csvname)\n",
    "\n",
    "url =  'http://tools.kinds.or.kr:8888/issue_ranking'\n",
    "data = {\n",
    "    \"access_key\": \"*******\",\n",
    "    \"argument\": {\n",
    "        \"date\": date,\n",
    "        \"provider\" : provider\n",
    "    }\n",
    "}\n",
    "res = requests.post(url, json=data)\n",
    "\n",
    "res_json = res.json()\n",
    "list1 = list(res_json.values())\n",
    "result = list1[1]\n",
    "df = pd.DataFrame(result)\n",
    "topics = df['topics']\n",
    "\n",
    "x=0\n",
    "tmplist = []\n",
    "for x in range(0,len(topics)) :\n",
    "    tmp = pd.DataFrame(topics[x])\n",
    "    tmplist.append(tmp)\n",
    "    tmp = None\n",
    "    x+=1\n",
    "    \n",
    "    \n",
    "result2 = pd.concat(tmplist[0:])"
   ]
  },
  {
   "cell_type": "code",
   "execution_count": 16,
   "metadata": {},
   "outputs": [
    {
     "output_type": "error",
     "ename": "FileNotFoundError",
     "evalue": "[Errno 2] No such file or directory: 'C:\\\\py_temp\\\\bigkinds\\\\지역별이슈_2021-07-18_경기/인천.csv'",
     "traceback": [
      "\u001b[1;31m---------------------------------------------------------------------------\u001b[0m",
      "\u001b[1;31mFileNotFoundError\u001b[0m                         Traceback (most recent call last)",
      "\u001b[1;32m<ipython-input-16-b90668c6e113>\u001b[0m in \u001b[0;36m<module>\u001b[1;34m\u001b[0m\n\u001b[0;32m      2\u001b[0m \u001b[0mresult3\u001b[0m \u001b[1;33m=\u001b[0m \u001b[0mresult2\u001b[0m\u001b[1;33m.\u001b[0m\u001b[0mdrop_duplicates\u001b[0m\u001b[1;33m(\u001b[0m\u001b[1;34m'topic'\u001b[0m\u001b[1;33m)\u001b[0m\u001b[1;33m\u001b[0m\u001b[0m\n\u001b[0;32m      3\u001b[0m \u001b[0mresult4\u001b[0m \u001b[1;33m=\u001b[0m \u001b[0mresult3\u001b[0m\u001b[1;33m.\u001b[0m\u001b[0msort_values\u001b[0m\u001b[1;33m(\u001b[0m\u001b[0mby\u001b[0m\u001b[1;33m=\u001b[0m\u001b[1;33m[\u001b[0m\u001b[1;34m'topic_rank'\u001b[0m\u001b[1;33m]\u001b[0m\u001b[1;33m)\u001b[0m\u001b[1;33m\u001b[0m\u001b[0m\n\u001b[1;32m----> 4\u001b[1;33m \u001b[0mresult4\u001b[0m\u001b[1;33m.\u001b[0m\u001b[0mto_csv\u001b[0m\u001b[1;33m(\u001b[0m\u001b[0mfilename\u001b[0m\u001b[1;33m,\u001b[0m\u001b[0mencoding\u001b[0m\u001b[1;33m=\u001b[0m\u001b[1;34m\"utf-8-sig\"\u001b[0m \u001b[1;33m,\u001b[0m \u001b[0mindex\u001b[0m\u001b[1;33m=\u001b[0m\u001b[1;32mFalse\u001b[0m \u001b[1;33m)\u001b[0m\u001b[1;33m\u001b[0m\u001b[0m\n\u001b[0m",
      "\u001b[1;32m~\\AppData\\Local\\Programs\\Python\\Python36\\lib\\site-packages\\pandas\\core\\generic.py\u001b[0m in \u001b[0;36mto_csv\u001b[1;34m(self, path_or_buf, sep, na_rep, float_format, columns, header, index, index_label, mode, encoding, compression, quoting, quotechar, line_terminator, chunksize, date_format, doublequote, escapechar, decimal, errors)\u001b[0m\n\u001b[0;32m   3168\u001b[0m             \u001b[0mdecimal\u001b[0m\u001b[1;33m=\u001b[0m\u001b[0mdecimal\u001b[0m\u001b[1;33m,\u001b[0m\u001b[1;33m\u001b[0m\u001b[0m\n\u001b[0;32m   3169\u001b[0m         )\n\u001b[1;32m-> 3170\u001b[1;33m         \u001b[0mformatter\u001b[0m\u001b[1;33m.\u001b[0m\u001b[0msave\u001b[0m\u001b[1;33m(\u001b[0m\u001b[1;33m)\u001b[0m\u001b[1;33m\u001b[0m\u001b[0m\n\u001b[0m\u001b[0;32m   3171\u001b[0m \u001b[1;33m\u001b[0m\u001b[0m\n\u001b[0;32m   3172\u001b[0m         \u001b[1;32mif\u001b[0m \u001b[0mpath_or_buf\u001b[0m \u001b[1;32mis\u001b[0m \u001b[1;32mNone\u001b[0m\u001b[1;33m:\u001b[0m\u001b[1;33m\u001b[0m\u001b[0m\n",
      "\u001b[1;32m~\\AppData\\Local\\Programs\\Python\\Python36\\lib\\site-packages\\pandas\\io\\formats\\csvs.py\u001b[0m in \u001b[0;36msave\u001b[1;34m(self)\u001b[0m\n\u001b[0;32m    188\u001b[0m                 \u001b[0mencoding\u001b[0m\u001b[1;33m=\u001b[0m\u001b[0mself\u001b[0m\u001b[1;33m.\u001b[0m\u001b[0mencoding\u001b[0m\u001b[1;33m,\u001b[0m\u001b[1;33m\u001b[0m\u001b[0m\n\u001b[0;32m    189\u001b[0m                 \u001b[0merrors\u001b[0m\u001b[1;33m=\u001b[0m\u001b[0mself\u001b[0m\u001b[1;33m.\u001b[0m\u001b[0merrors\u001b[0m\u001b[1;33m,\u001b[0m\u001b[1;33m\u001b[0m\u001b[0m\n\u001b[1;32m--> 190\u001b[1;33m                 \u001b[0mcompression\u001b[0m\u001b[1;33m=\u001b[0m\u001b[0mdict\u001b[0m\u001b[1;33m(\u001b[0m\u001b[0mself\u001b[0m\u001b[1;33m.\u001b[0m\u001b[0mcompression_args\u001b[0m\u001b[1;33m,\u001b[0m \u001b[0mmethod\u001b[0m\u001b[1;33m=\u001b[0m\u001b[0mself\u001b[0m\u001b[1;33m.\u001b[0m\u001b[0mcompression\u001b[0m\u001b[1;33m)\u001b[0m\u001b[1;33m,\u001b[0m\u001b[1;33m\u001b[0m\u001b[0m\n\u001b[0m\u001b[0;32m    191\u001b[0m             )\n\u001b[0;32m    192\u001b[0m             \u001b[0mclose\u001b[0m \u001b[1;33m=\u001b[0m \u001b[1;32mTrue\u001b[0m\u001b[1;33m\u001b[0m\u001b[0m\n",
      "\u001b[1;32m~\\AppData\\Local\\Programs\\Python\\Python36\\lib\\site-packages\\pandas\\io\\common.py\u001b[0m in \u001b[0;36mget_handle\u001b[1;34m(path_or_buf, mode, encoding, compression, memory_map, is_text, errors)\u001b[0m\n\u001b[0;32m    491\u001b[0m         \u001b[1;32mif\u001b[0m \u001b[0mencoding\u001b[0m\u001b[1;33m:\u001b[0m\u001b[1;33m\u001b[0m\u001b[0m\n\u001b[0;32m    492\u001b[0m             \u001b[1;31m# Encoding\u001b[0m\u001b[1;33m\u001b[0m\u001b[1;33m\u001b[0m\u001b[0m\n\u001b[1;32m--> 493\u001b[1;33m             \u001b[0mf\u001b[0m \u001b[1;33m=\u001b[0m \u001b[0mopen\u001b[0m\u001b[1;33m(\u001b[0m\u001b[0mpath_or_buf\u001b[0m\u001b[1;33m,\u001b[0m \u001b[0mmode\u001b[0m\u001b[1;33m,\u001b[0m \u001b[0mencoding\u001b[0m\u001b[1;33m=\u001b[0m\u001b[0mencoding\u001b[0m\u001b[1;33m,\u001b[0m \u001b[0merrors\u001b[0m\u001b[1;33m=\u001b[0m\u001b[0merrors\u001b[0m\u001b[1;33m,\u001b[0m \u001b[0mnewline\u001b[0m\u001b[1;33m=\u001b[0m\u001b[1;34m\"\"\u001b[0m\u001b[1;33m)\u001b[0m\u001b[1;33m\u001b[0m\u001b[0m\n\u001b[0m\u001b[0;32m    494\u001b[0m         \u001b[1;32melif\u001b[0m \u001b[0mis_text\u001b[0m\u001b[1;33m:\u001b[0m\u001b[1;33m\u001b[0m\u001b[0m\n\u001b[0;32m    495\u001b[0m             \u001b[1;31m# No explicit encoding\u001b[0m\u001b[1;33m\u001b[0m\u001b[1;33m\u001b[0m\u001b[0m\n",
      "\u001b[1;31mFileNotFoundError\u001b[0m: [Errno 2] No such file or directory: 'C:\\\\py_temp\\\\bigkinds\\\\지역별이슈_2021-07-18_경기/인천.csv'"
     ]
    }
   ],
   "source": [
    "result2\n",
    "result3 = result2.drop_duplicates('topic')\n",
    "result4 = result3.sort_values(by=['topic_rank'])\n",
    "result4.to_csv(filename,encoding=\"utf-8-sig\" , index=False )\n"
   ]
  },
  {
   "cell_type": "code",
   "execution_count": 17,
   "metadata": {},
   "outputs": [
    {
     "output_type": "execute_result",
     "data": {
      "text/plain": [
       "                            topic  topic_rank  \\\n",
       "0    서울 아파트값, 상반기에 지난해 1년 치 넘게 올라          12   \n",
       "0                이재명 1. 공약 공정 성장           13   \n",
       "0         10대 아들 절도 의심해 때린 엄마 벌금형          14   \n",
       "0  코로나 1년 반…감염병예방법 위반 수사 7000명 육박          16   \n",
       "0       내일부터 다음달1일까지 비수도권 5인모임 제한          23   \n",
       "0      이재명 \"'이낙연 비방' 관계자 직위해제 처분\"          23   \n",
       "0    고3 화이자 접종 19일 시작... \"교사와 함께\"          31   \n",
       "0  선별검사소 찾은 문 대통령…\"올해 되풀이돼 정말 송구\"          35   \n",
       "0  남아공·체코 대표팀 확진자 발생...밀접접촉 인원 격리          36   \n",
       "0  민주노총 \"집회 감염 확률 낮아...정부, 사실 왜곡\"         123   \n",
       "\n",
       "                                       topic_keyword  \\\n",
       "0  아파트,서울,상반기,아파트값,1년,상승률,상승,연간,3.18%,평균,추월,6개월,안...   \n",
       "0  성장,공약,이재명,1.,공정,공정성장,전환,1호,전환적,제1,제1공약,지속성장,우상...   \n",
       "0  아들,5시간,시간,엄마,10대,의심,절도,벌금,폭행,유예,집행유예,벌금형,손가락,집...   \n",
       "0  위반,방역,코로나19,감염병예방법,7000명,육박,예방법,수사,사법,방역수칙,처리,...   \n",
       "0  수도,비수도권,수도권,비수도,모임,5인,사적,속보,19일,9일,1일,4인,주말,허용...   \n",
       "0  이재명,이낙연,해제,직위해제,직위,비방,기관,경기도,관계자,임원,개입,사이다,선거개...   \n",
       "0  접종,고3,시작,19일,9일,화이자,백신,교직원,청소년,1차,2일,63만,학생,백신...   \n",
       "0  선별,검사,검사소,선별검사,선별검사소,대통령,의료진,방문,가슴,땀범벅,땀범,송구,되...   \n",
       "0  올림픽,코로나,확진,일본,코로나19,스가,국민,도쿄,주말,기분,총리,자릿수,천명,1...   \n",
       "0  노총,집회,민주노총,확진,감염,확진자,수도권,수도,민노총,왜곡,비수도,비수도권,모임...   \n",
       "\n",
       "                 news_cluster  \n",
       "0  08200101.20210718150605005  \n",
       "0  01200201.20210718165009001  \n",
       "0  08200101.20210718150604005  \n",
       "0  08200101.20210718150604006  \n",
       "0  08200101.20210718150605004  \n",
       "0  01400501.20210718161104001  \n",
       "0  08200101.20210718150605003  \n",
       "0  01400501.20210718154146001  \n",
       "0  08200101.20210718150606003  \n",
       "0  01400501.20210718160022001  "
      ],
      "text/html": "<div>\n<style scoped>\n    .dataframe tbody tr th:only-of-type {\n        vertical-align: middle;\n    }\n\n    .dataframe tbody tr th {\n        vertical-align: top;\n    }\n\n    .dataframe thead th {\n        text-align: right;\n    }\n</style>\n<table border=\"1\" class=\"dataframe\">\n  <thead>\n    <tr style=\"text-align: right;\">\n      <th></th>\n      <th>topic</th>\n      <th>topic_rank</th>\n      <th>topic_keyword</th>\n      <th>news_cluster</th>\n    </tr>\n  </thead>\n  <tbody>\n    <tr>\n      <th>0</th>\n      <td>서울 아파트값, 상반기에 지난해 1년 치 넘게 올라</td>\n      <td>12</td>\n      <td>아파트,서울,상반기,아파트값,1년,상승률,상승,연간,3.18%,평균,추월,6개월,안...</td>\n      <td>08200101.20210718150605005</td>\n    </tr>\n    <tr>\n      <th>0</th>\n      <td>이재명 1. 공약 공정 성장</td>\n      <td>13</td>\n      <td>성장,공약,이재명,1.,공정,공정성장,전환,1호,전환적,제1,제1공약,지속성장,우상...</td>\n      <td>01200201.20210718165009001</td>\n    </tr>\n    <tr>\n      <th>0</th>\n      <td>10대 아들 절도 의심해 때린 엄마 벌금형</td>\n      <td>14</td>\n      <td>아들,5시간,시간,엄마,10대,의심,절도,벌금,폭행,유예,집행유예,벌금형,손가락,집...</td>\n      <td>08200101.20210718150604005</td>\n    </tr>\n    <tr>\n      <th>0</th>\n      <td>코로나 1년 반…감염병예방법 위반 수사 7000명 육박</td>\n      <td>16</td>\n      <td>위반,방역,코로나19,감염병예방법,7000명,육박,예방법,수사,사법,방역수칙,처리,...</td>\n      <td>08200101.20210718150604006</td>\n    </tr>\n    <tr>\n      <th>0</th>\n      <td>내일부터 다음달1일까지 비수도권 5인모임 제한</td>\n      <td>23</td>\n      <td>수도,비수도권,수도권,비수도,모임,5인,사적,속보,19일,9일,1일,4인,주말,허용...</td>\n      <td>08200101.20210718150605004</td>\n    </tr>\n    <tr>\n      <th>0</th>\n      <td>이재명 \"'이낙연 비방' 관계자 직위해제 처분\"</td>\n      <td>23</td>\n      <td>이재명,이낙연,해제,직위해제,직위,비방,기관,경기도,관계자,임원,개입,사이다,선거개...</td>\n      <td>01400501.20210718161104001</td>\n    </tr>\n    <tr>\n      <th>0</th>\n      <td>고3 화이자 접종 19일 시작... \"교사와 함께\"</td>\n      <td>31</td>\n      <td>접종,고3,시작,19일,9일,화이자,백신,교직원,청소년,1차,2일,63만,학생,백신...</td>\n      <td>08200101.20210718150605003</td>\n    </tr>\n    <tr>\n      <th>0</th>\n      <td>선별검사소 찾은 문 대통령…\"올해 되풀이돼 정말 송구\"</td>\n      <td>35</td>\n      <td>선별,검사,검사소,선별검사,선별검사소,대통령,의료진,방문,가슴,땀범벅,땀범,송구,되...</td>\n      <td>01400501.20210718154146001</td>\n    </tr>\n    <tr>\n      <th>0</th>\n      <td>남아공·체코 대표팀 확진자 발생...밀접접촉 인원 격리</td>\n      <td>36</td>\n      <td>올림픽,코로나,확진,일본,코로나19,스가,국민,도쿄,주말,기분,총리,자릿수,천명,1...</td>\n      <td>08200101.20210718150606003</td>\n    </tr>\n    <tr>\n      <th>0</th>\n      <td>민주노총 \"집회 감염 확률 낮아...정부, 사실 왜곡\"</td>\n      <td>123</td>\n      <td>노총,집회,민주노총,확진,감염,확진자,수도권,수도,민노총,왜곡,비수도,비수도권,모임...</td>\n      <td>01400501.20210718160022001</td>\n    </tr>\n  </tbody>\n</table>\n</div>"
     },
     "metadata": {},
     "execution_count": 17
    }
   ],
   "source": [
    "result4\n"
   ]
  },
  {
   "cell_type": "code",
   "execution_count": null,
   "metadata": {},
   "outputs": [],
   "source": []
  }
 ]
}
