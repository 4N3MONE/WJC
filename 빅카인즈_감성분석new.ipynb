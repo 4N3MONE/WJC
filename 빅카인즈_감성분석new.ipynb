{
 "cells": [
  {
   "cell_type": "code",
   "execution_count": 1,
   "source": [
    "import collectnews\r\n",
    "startdate = '2021-08-01'\r\n",
    "enddate = '2021-08-31'\r\n",
    "query = input(\"감정분석을 실행할 인물/지역/키워드를 입력해주세요.\")\r\n",
    "#본문 수집 자료가 저장될 경로 설정\r\n",
    "filename = \"C:\\\\py_temp\\\\bigkinds\\\\본문수집\\\\본문수집_{}_from{}to{}.csv\".format(query,startdate, enddate)\r\n",
    "collectnews.collectnews(query, startdate, enddate)\r\n"
   ],
   "outputs": [],
   "metadata": {}
  },
  {
   "cell_type": "code",
   "execution_count": 13,
   "source": [
    "import csv\r\n",
    "import pandas as pd\r\n",
    "import re\r\n",
    "import matplotlib.pyplot as plt\r\n",
    "import matplotlib\r\n",
    "from matplotlib import font_manager, rc\r\n",
    "labels=[]\r\n",
    "df=pd.read_csv(filename)\r\n",
    "data=df['content']\r\n"
   ],
   "outputs": [],
   "metadata": {}
  },
  {
   "cell_type": "code",
   "execution_count": 19,
   "source": [
    "from konlpy.tag import Okt\r\n",
    "okt = Okt()\r\n",
    "okt.pos(data[1])"
   ],
   "outputs": [
    {
     "output_type": "execute_result",
     "data": {
      "text/plain": [
       "[('경기도', 'Noun'),\n",
       " ('성남시', 'Noun'),\n",
       " ('가', 'Josa'),\n",
       " ('오늘', 'Noun'),\n",
       " ('부터', 'Josa'),\n",
       " ('오는', 'Verb'),\n",
       " ('14일', 'Number'),\n",
       " ('까지를', 'Foreign'),\n",
       " ('특별', 'Noun'),\n",
       " ('방역', 'Noun'),\n",
       " ('대책', 'Noun'),\n",
       " ('기간', 'Noun'),\n",
       " ('으로', 'Josa'),\n",
       " ('정', 'Noun'),\n",
       " ('했습니다', 'Verb'),\n",
       " ('.', 'Punctuation'),\n",
       " ('성남시', 'Noun'),\n",
       " ('는', 'Josa'),\n",
       " ('지역', 'Noun'),\n",
       " ('내', 'Noun'),\n",
       " ('유흥', 'Noun'),\n",
       " ('ㆍ', 'Foreign'),\n",
       " ('단란주점', 'Noun'),\n",
       " ('484', 'Number'),\n",
       " ('곳', 'Noun'),\n",
       " ('과', 'Josa'),\n",
       " ('홀덤', 'Noun'),\n",
       " ('펍', 'Noun'),\n",
       " (',', 'Punctuation'),\n",
       " ('홀덤', 'Noun'),\n",
       " ('게임', 'Noun'),\n",
       " ('장', 'Suffix'),\n",
       " ('14', 'Number'),\n",
       " ('곳', 'Noun'),\n",
       " ('에', 'Josa'),\n",
       " ('8일', 'Number'),\n",
       " ('부터', 'Foreign'),\n",
       " ('자가', 'Noun'),\n",
       " ('검사', 'Noun'),\n",
       " ('키트', 'Noun'),\n",
       " ('2천', 'Number'),\n",
       " ('명분', 'Noun'),\n",
       " ('을', 'Josa'),\n",
       " ('지원', 'Noun'),\n",
       " ('하고', 'Josa'),\n",
       " ('학교', 'Noun'),\n",
       " (',', 'Punctuation'),\n",
       " ('종교시설', 'Noun'),\n",
       " ('등', 'Noun'),\n",
       " ('다중', 'Noun'),\n",
       " ('이용', 'Noun'),\n",
       " ('시설', 'Noun'),\n",
       " ('5천', 'Number'),\n",
       " ('30', 'Number'),\n",
       " ('곳', 'Noun'),\n",
       " ('에', 'Josa'),\n",
       " ('특별', 'Noun'),\n",
       " ('방역', 'Noun'),\n",
       " ('점검', 'Noun'),\n",
       " ('을', 'Josa'),\n",
       " ('시행', 'Noun'),\n",
       " ('합니다', 'Verb'),\n",
       " ('.', 'Punctuation'),\n",
       " ('1천', 'Number'),\n",
       " ('961', 'Number'),\n",
       " ('개', 'Noun'),\n",
       " ('학원', 'Noun'),\n",
       " ('의', 'Josa'),\n",
       " ('강사', 'Noun'),\n",
       " ('와', 'Josa'),\n",
       " ('직원', 'Noun'),\n",
       " (',', 'Punctuation'),\n",
       " ('운전', 'Noun'),\n",
       " ('수', 'Noun'),\n",
       " ('등', 'Noun'),\n",
       " ('모든', 'Noun'),\n",
       " ('종사', 'Noun'),\n",
       " ('자', 'Suffix'),\n",
       " ('의', 'Josa'),\n",
       " ('코로나', 'Noun'),\n",
       " ('19', 'Number'),\n",
       " ('진단', 'Noun'),\n",
       " ('검사', 'Noun'),\n",
       " ('도', 'Josa'),\n",
       " ('오는', 'Verb'),\n",
       " ('12일', 'Number'),\n",
       " ('까지', 'Foreign'),\n",
       " ('마무리', 'Noun'),\n",
       " ('할', 'Verb'),\n",
       " ('계획', 'Noun'),\n",
       " ('입니다', 'Adjective'),\n",
       " ('.<', 'Punctuation'),\n",
       " ('권현', 'Noun'),\n",
       " ('(', 'Punctuation'),\n",
       " ('14060413@obs.co.kr', 'Email'),\n",
       " (')>', 'Punctuation')]"
      ]
     },
     "metadata": {},
     "execution_count": 19
    }
   ],
   "metadata": {}
  },
  {
   "cell_type": "code",
   "execution_count": 20,
   "source": [
    "okt.pos(\"걷뇨매\")"
   ],
   "outputs": [
    {
     "output_type": "execute_result",
     "data": {
      "text/plain": [
       "[('걷뇨매', 'Noun')]"
      ]
     },
     "metadata": {},
     "execution_count": 20
    }
   ],
   "metadata": {}
  },
  {
   "cell_type": "code",
   "execution_count": null,
   "source": [],
   "outputs": [],
   "metadata": {}
  }
 ],
 "metadata": {
  "orig_nbformat": 4,
  "language_info": {
   "name": "python",
   "version": "3.6.3",
   "mimetype": "text/x-python",
   "codemirror_mode": {
    "name": "ipython",
    "version": 3
   },
   "pygments_lexer": "ipython3",
   "nbconvert_exporter": "python",
   "file_extension": ".py"
  },
  "kernelspec": {
   "name": "python3",
   "display_name": "Python 3.6.3 64-bit"
  },
  "interpreter": {
   "hash": "94924fd39d2774ab60feff45dd5135d83272da01bb2cc5164a87c902612d2eb3"
  }
 },
 "nbformat": 4,
 "nbformat_minor": 2
}